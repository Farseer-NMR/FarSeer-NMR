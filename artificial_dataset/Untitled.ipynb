{
 "cells": [
  {
   "cell_type": "code",
   "execution_count": 1,
   "metadata": {
    "collapsed": true
   },
   "outputs": [],
   "source": [
    "import numpy as np\n",
    "from matplotlib import pyplot as plt\n",
    "%matplotlib inline"
   ]
  },
  {
   "cell_type": "code",
   "execution_count": 6,
   "metadata": {
    "collapsed": false
   },
   "outputs": [
    {
     "data": {
      "text/plain": [
       "array([[ 3.75975197,  3.66537909],\n",
       "       [ 3.93865807,  0.02838145],\n",
       "       [ 4.09356236,  0.01994729]])"
      ]
     },
     "execution_count": 6,
     "metadata": {},
     "output_type": "execute_result"
    }
   ],
   "source": [
    "5 * np.random.logseries((3, 2))"
   ]
  },
  {
   "cell_type": "code",
   "execution_count": 31,
   "metadata": {
    "collapsed": true
   },
   "outputs": [],
   "source": [
    "z = np.array([5,5,5,5,5,5])"
   ]
  },
  {
   "cell_type": "code",
   "execution_count": 121,
   "metadata": {
    "collapsed": false
   },
   "outputs": [],
   "source": [
    "a = lambda x: np.random.exponential(.5, size=len(x))\n",
    "b = (a(z) + a(z) + a(z) + a(z) + a(z) + a(z)) / 6\n",
    "b.sort()"
   ]
  },
  {
   "cell_type": "code",
   "execution_count": 22,
   "metadata": {
    "collapsed": true
   },
   "outputs": [],
   "source": [
    "c = np.random.exponential(1, size=6) + np.random.exponential(1, size=6)+ np.random.exponential(1, size=6)+np.random.exponential(1, size=6)+np.random.exponential(1, size=6)+np.random.exponential(1, size=6)# + np.random.exponential(.5, size=6)\n",
    "c = c/6\n",
    "c.sort()"
   ]
  },
  {
   "cell_type": "code",
   "execution_count": 148,
   "metadata": {
    "collapsed": false
   },
   "outputs": [
    {
     "name": "stdout",
     "output_type": "stream",
     "text": [
      "[ 0.04846185  0.25865462  0.32776781  0.33618089  0.44621974  1.        ]\n",
      "[8, 8.01, 7.99, 8.02, 8.021, 7.94]\n",
      "[ 8.01453856  8.08759639  8.08833034  8.12085427  8.15486592  8.24      ]\n"
     ]
    },
    {
     "data": {
      "text/plain": [
       "[<matplotlib.lines.Line2D at 0x7fc8a3cfc278>]"
      ]
     },
     "execution_count": 148,
     "metadata": {},
     "output_type": "execute_result"
    },
    {
     "data": {
      "image/png": "[encoded data removed]",
      "text/plain": [
       "<matplotlib.figure.Figure at 0x7fc8a3d233c8>"
      ]
     },
     "metadata": {},
     "output_type": "display_data"
    }
   ],
   "source": [
    "c = np.random.exponential(0.5, size=6)\n",
    "c.sort()\n",
    "c = c/c[-1]\n",
    "print(c)\n",
    "inf=105\n",
    "sup=135\n",
    "decimal=1000\n",
    "z = [8,8.01,7.99,8.02,8.021,7.94]\n",
    "print(z)\n",
    "maxc = 0.3\n",
    "zz = z + maxc * (c)\n",
    "print(zz)\n",
    "plt.plot(zz)"
   ]
  },
  {
   "cell_type": "code",
   "execution_count": 120,
   "metadata": {
    "collapsed": false
   },
   "outputs": [
    {
     "data": {
      "text/plain": [
       "[<matplotlib.lines.Line2D at 0x7fc8a46fdbe0>]"
      ]
     },
     "execution_count": 120,
     "metadata": {},
     "output_type": "execute_result"
    },
    {
     "data": {
      "image/png": "[encoded data removed]",
      "text/plain": [
       "<matplotlib.figure.Figure at 0x7fc8a481bdd8>"
      ]
     },
     "metadata": {},
     "output_type": "display_data"
    }
   ],
   "source": [
    "plt.plot((-c[-1]+c[::-1])*-1)"
   ]
  },
  {
   "cell_type": "code",
   "execution_count": 84,
   "metadata": {
    "collapsed": false
   },
   "outputs": [
    {
     "data": {
      "text/plain": [
       "[<matplotlib.lines.Line2D at 0x7f37573ba7f0>]"
      ]
     },
     "execution_count": 84,
     "metadata": {},
     "output_type": "execute_result"
    },
    {
     "data": {
      "image/png": "[encoded data removed]",
      "text/plain": [
       "<matplotlib.figure.Figure at 0x7f37573fe8d0>"
      ]
     },
     "metadata": {},
     "output_type": "display_data"
    }
   ],
   "source": [
    "plt.plot((a[::-1])*-1)"
   ]
  },
  {
   "cell_type": "code",
   "execution_count": 106,
   "metadata": {
    "collapsed": false
   },
   "outputs": [],
   "source": [
    "lp = np.linspace(0.1,0.02, num=6)\n",
    "#lp = lp[::-1]"
   ]
  },
  {
   "cell_type": "code",
   "execution_count": 107,
   "metadata": {
    "collapsed": false
   },
   "outputs": [
    {
     "name": "stdout",
     "output_type": "stream",
     "text": [
      "[ 5.   5.1  5.2  5.3  5.4  5.5]\n",
      "[ 0.1    0.084  0.068  0.052  0.036  0.02 ]\n",
      "[ 1.  2.  3.  4.  5.  6.]\n",
      "[ 0.5     0.8568  1.0608  1.1024  0.972   0.66  ]\n",
      "5.1 5.0\n",
      "5.42\n",
      "5.2 5.42\n",
      "5.78856\n",
      "5.3 5.78856\n",
      "6.08956512\n",
      "5.4 6.08956512\n",
      "6.30878946432\n",
      "5.5 6.30878946432\n",
      "6.43496525361\n",
      "[ 5.          5.42        5.78856     6.08956512  6.30878946  6.43496525]\n"
     ]
    }
   ],
   "source": [
    "z = np.array([5.0,5.1,5.2,5.3,5.4,5.5])\n",
    "print(z)\n",
    "print(lp)\n",
    "print(lpp)\n",
    "print(z*lpp*lp)\n",
    "\n",
    "for i in range(1, len(z)):\n",
    "    print(z[i], z[i-1])\n",
    "    z[i] = z[i-1] + z[i-1] * lp[i]\n",
    "    print(z[i])\n",
    "\n",
    "print(z)"
   ]
  },
  {
   "cell_type": "code",
   "execution_count": 108,
   "metadata": {
    "collapsed": false
   },
   "outputs": [
    {
     "data": {
      "text/plain": [
       "[<matplotlib.lines.Line2D at 0x7fc8a4cc6748>]"
      ]
     },
     "execution_count": 108,
     "metadata": {},
     "output_type": "execute_result"
    },
    {
     "data": {
      "image/png": "[encoded data removed]",
      "text/plain": [
       "<matplotlib.figure.Figure at 0x7fc8a4d8b198>"
      ]
     },
     "metadata": {},
     "output_type": "display_data"
    }
   ],
   "source": [
    "plt.plot(z)"
   ]
  },
  {
   "cell_type": "code",
   "execution_count": null,
   "metadata": {
    "collapsed": true
   },
   "outputs": [],
   "source": []
  },
  {
   "cell_type": "code",
   "execution_count": null,
   "metadata": {
    "collapsed": true
   },
   "outputs": [],
   "source": []
  }
 ],
 "metadata": {
  "anaconda-cloud": {},
  "kernelspec": {
   "display_name": "Python [default]",
   "language": "python",
   "name": "python3"
  },
  "language_info": {
   "codemirror_mode": {
    "name": "ipython",
    "version": 3
   },
   "file_extension": ".py",
   "mimetype": "text/x-python",
   "name": "python",
   "nbconvert_exporter": "python",
   "pygments_lexer": "ipython3",
   "version": "3.5.2"
  }
 },
 "nbformat": 4,
 "nbformat_minor": 2
}
